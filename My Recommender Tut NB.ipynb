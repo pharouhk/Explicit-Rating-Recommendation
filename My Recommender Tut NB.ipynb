{
 "cells": [
  {
   "cell_type": "markdown",
   "metadata": {},
   "source": [
    "# Comedy Rating Prediction"
   ]
  },
  {
   "cell_type": "code",
   "execution_count": 1,
   "metadata": {
    "_cell_guid": "b1076dfc-b9ad-4769-8c92-a6c4dae69d19",
    "_uuid": "8f2839f25d086af736a60e9eeb907d3b93b6e0e5",
    "collapsed": true
   },
   "outputs": [],
   "source": [
    "import numpy as np # linear algebra\n",
    "import pandas as pd # data processing, CSV file I/O (e.g. pd.read_csv)\n",
    "\n",
    "import os\n",
    "\n",
    "import scipy.sparse as sp\n",
    "from sklearn.metrics import mean_squared_error, mean_absolute_error\n",
    "from sklearn.metrics.pairwise import pairwise_distances\n",
    "from sklearn import model_selection as cv\n",
    "from scipy.sparse.linalg import svds\n",
    "\n",
    "import matplotlib.pyplot as plt\n",
    "# from IPython.dispaly import Image\n",
    "from tqdm import tqdm_notebook \n",
    "from collections import Counter\n",
    "from math import sqrt\n",
    "import warnings\n",
    "\n",
    "plt.style.use('seaborn')\n",
    "%matplotlib inline\n",
    "%config InlineBackend.figure_format  = 'retina'\n",
    "warnings.filterwarnings\n",
    "plt.rcParams['figure.figsize'] = [10,5]"
   ]
  },
  {
   "cell_type": "markdown",
   "metadata": {
    "_uuid": "e3f5ebd6aa3c9c797f5228e0ba64899b17e07042"
   },
   "source": [
    "<h1  style=\"font-size: 20px\">**Loading Your data**<h1>"
   ]
  },
  {
   "cell_type": "markdown",
   "metadata": {},
   "source": [
    "<span style=\"font-size:15px\">Make sure to change the file reference as this notebook was developed locally. The dataset can be found here <a href=\"https://www.kaggle.com/c/dsn2018selection/data\">Comedy Data.</a><span>"
   ]
  },
  {
   "cell_type": "markdown",
   "metadata": {
    "_cell_guid": "79c7e3d0-c299-4dcb-8224-4455121ee9b0",
    "_uuid": "d629ff2d2480ee46fbb7e2d37f6b5fab8052498a",
    "collapsed": true
   },
   "source": [
    "## Training Data\n",
    "com_df = pd.read_csv('C:/Users/Training/Desktop/comedy data/train.csv')"
   ]
  },
  {
   "cell_type": "code",
   "execution_count": 4,
   "metadata": {
    "_uuid": "71619ffd309daf011f47f715d5ca63323748180f"
   },
   "outputs": [
    {
     "data": {
      "text/html": [
       "<div>\n",
       "<style>\n",
       "    .dataframe thead tr:only-child th {\n",
       "        text-align: right;\n",
       "    }\n",
       "\n",
       "    .dataframe thead th {\n",
       "        text-align: left;\n",
       "    }\n",
       "\n",
       "    .dataframe tbody tr th {\n",
       "        vertical-align: top;\n",
       "    }\n",
       "</style>\n",
       "<table border=\"1\" class=\"dataframe\">\n",
       "  <thead>\n",
       "    <tr style=\"text-align: right;\">\n",
       "      <th></th>\n",
       "      <th>Viewers_ID</th>\n",
       "      <th>Joke_identifier</th>\n",
       "      <th>Response_ID</th>\n",
       "      <th>Rating</th>\n",
       "    </tr>\n",
       "  </thead>\n",
       "  <tbody>\n",
       "    <tr>\n",
       "      <th>0</th>\n",
       "      <td>A1</td>\n",
       "      <td>Klint De Drunk Enugu 1</td>\n",
       "      <td>A1_Klint De Drunk Enugu 1</td>\n",
       "      <td>0.11</td>\n",
       "    </tr>\n",
       "    <tr>\n",
       "      <th>1</th>\n",
       "      <td>A1</td>\n",
       "      <td>Klint De Drunk Enugu 2</td>\n",
       "      <td>A1_Klint De Drunk Enugu 2</td>\n",
       "      <td>-4.64</td>\n",
       "    </tr>\n",
       "    <tr>\n",
       "      <th>2</th>\n",
       "      <td>A1</td>\n",
       "      <td>Klint De Drunk PH 1</td>\n",
       "      <td>A1_Klint De Drunk PH 1</td>\n",
       "      <td>-3.39</td>\n",
       "    </tr>\n",
       "    <tr>\n",
       "      <th>3</th>\n",
       "      <td>A1</td>\n",
       "      <td>Klint De Drunk PH 2</td>\n",
       "      <td>A1_Klint De Drunk PH 2</td>\n",
       "      <td>0.44</td>\n",
       "    </tr>\n",
       "    <tr>\n",
       "      <th>4</th>\n",
       "      <td>A1</td>\n",
       "      <td>Klint De Drunk Lagos 1</td>\n",
       "      <td>A1_Klint De Drunk Lagos 1</td>\n",
       "      <td>-4.83</td>\n",
       "    </tr>\n",
       "    <tr>\n",
       "      <th>5</th>\n",
       "      <td>A1</td>\n",
       "      <td>Klint De Drunk Lagos 2</td>\n",
       "      <td>A1_Klint De Drunk Lagos 2</td>\n",
       "      <td>-4.52</td>\n",
       "    </tr>\n",
       "    <tr>\n",
       "      <th>6</th>\n",
       "      <td>A1</td>\n",
       "      <td>Klint De Drunk Lagos 3</td>\n",
       "      <td>A1_Klint De Drunk Lagos 3</td>\n",
       "      <td>-3.73</td>\n",
       "    </tr>\n",
       "    <tr>\n",
       "      <th>7</th>\n",
       "      <td>A1</td>\n",
       "      <td>Klint De Drunk Warri 1</td>\n",
       "      <td>A1_Klint De Drunk Warri 1</td>\n",
       "      <td>-4.36</td>\n",
       "    </tr>\n",
       "    <tr>\n",
       "      <th>8</th>\n",
       "      <td>A1</td>\n",
       "      <td>AliBaba Lagos 2</td>\n",
       "      <td>A1_AliBaba Lagos 2</td>\n",
       "      <td>-4.39</td>\n",
       "    </tr>\n",
       "    <tr>\n",
       "      <th>9</th>\n",
       "      <td>A1</td>\n",
       "      <td>AliBaba Aso Rock 2</td>\n",
       "      <td>A1_AliBaba Aso Rock 2</td>\n",
       "      <td>4.39</td>\n",
       "    </tr>\n",
       "  </tbody>\n",
       "</table>\n",
       "</div>"
      ],
      "text/plain": [
       "  Viewers_ID          Joke_identifier                 Response_ID  Rating\n",
       "0         A1   Klint De Drunk Enugu 1   A1_Klint De Drunk Enugu 1    0.11\n",
       "1         A1   Klint De Drunk Enugu 2   A1_Klint De Drunk Enugu 2   -4.64\n",
       "2         A1      Klint De Drunk PH 1      A1_Klint De Drunk PH 1   -3.39\n",
       "3         A1      Klint De Drunk PH 2      A1_Klint De Drunk PH 2    0.44\n",
       "4         A1   Klint De Drunk Lagos 1   A1_Klint De Drunk Lagos 1   -4.83\n",
       "5         A1   Klint De Drunk Lagos 2   A1_Klint De Drunk Lagos 2   -4.52\n",
       "6         A1   Klint De Drunk Lagos 3   A1_Klint De Drunk Lagos 3   -3.73\n",
       "7         A1  Klint De Drunk Warri 1   A1_Klint De Drunk Warri 1    -4.36\n",
       "8         A1          AliBaba Lagos 2          A1_AliBaba Lagos 2   -4.39\n",
       "9         A1       AliBaba Aso Rock 2       A1_AliBaba Aso Rock 2    4.39"
      ]
     },
     "execution_count": 4,
     "metadata": {},
     "output_type": "execute_result"
    }
   ],
   "source": [
    "com_df.head(10)"
   ]
  },
  {
   "cell_type": "markdown",
   "metadata": {
    "_uuid": "95f7d2549865f79e847039aca0689d7aa1e28806"
   },
   "source": [
    "<span  style=\"font-size: 15px\">Let us know the number of unique users and the number of shows rated in the train dataset<span> "
   ]
  },
  {
   "cell_type": "code",
   "execution_count": 5,
   "metadata": {
    "_uuid": "9f98db6d9b36c158aeda01388469890a676d9b4f"
   },
   "outputs": [
    {
     "name": "stdout",
     "output_type": "stream",
     "text": [
      "The number of unique users are 40863 and the number of unique comedy shows are 127 in train data\n"
     ]
    }
   ],
   "source": [
    "no_users_tr = len(set(com_df.Viewers_ID))\n",
    "no_jokes_tr = len(set(com_df.Joke_identifier))\n",
    "print('The number of unique users are {0} and the number of unique comedy shows are {1} in train data'.format(no_users_tr,\n",
    "                                                                                                           no_jokes_tr))"
   ]
  },
  {
   "cell_type": "code",
   "execution_count": 7,
   "metadata": {
    "_uuid": "076699dfd332094a449db5796ef2b084133d9524",
    "collapsed": true
   },
   "outputs": [],
   "source": [
    "#load the test data set\n",
    "com_df_test = pd.read_csv('C:/Users/Training/Desktop/comedy data/test.csv')"
   ]
  },
  {
   "cell_type": "markdown",
   "metadata": {
    "_uuid": "2e5fe1dc540b3af491c794c0cb815195591a8ae2"
   },
   "source": [
    "<span  style=\"font-size: 15px\">let us also know the number of unique users and the number of shows rated in the test dataset. It might be that there are some comdey shows in the train not in the test and vice versa<span>"
   ]
  },
  {
   "cell_type": "code",
   "execution_count": 8,
   "metadata": {
    "_uuid": "24c9e5d9629e15374732ac4511276614430dc1a2"
   },
   "outputs": [
    {
     "name": "stdout",
     "output_type": "stream",
     "text": [
      "The number of unique users are 40863 and the number of unique comedy shows are 135 in test data\n"
     ]
    }
   ],
   "source": [
    "no_users_te = len(set(com_df_test.Viewers_ID))\n",
    "no_jokes_te = len(set(com_df_test.Joke_identifier))\n",
    "print('The number of unique users are {0} and the number of unique comedy shows are {1} in test data'.format(no_users_te, \n",
    "                                                                                                             no_jokes_te))"
   ]
  },
  {
   "cell_type": "code",
   "execution_count": 9,
   "metadata": {
    "_uuid": "8b2ef59a78e361f7115efa4d066de1215bef86ba"
   },
   "outputs": [
    {
     "name": "stdout",
     "output_type": "stream",
     "text": [
      "There are 123 comedy shows common to both train and test\n"
     ]
    }
   ],
   "source": [
    "#let us know if there are some jokes in train not in test\n",
    "common = list(set(com_df.Joke_identifier) & set(com_df_test.Joke_identifier))\n",
    "\n",
    "print(\"There are {0} comedy shows common to both train and test\".format(len(common)))"
   ]
  },
  {
   "cell_type": "code",
   "execution_count": 10,
   "metadata": {
    "_uuid": "97b4060bec5fc924a14e3a19ab50cebc6c114f4f"
   },
   "outputs": [
    {
     "data": {
      "application/vnd.jupyter.widget-view+json": {
       "model_id": "1b6db6c6918e49c49f24109f2131d585",
       "version_major": 2,
       "version_minor": 0
      },
      "text/plain": [
       "A Jupyter Widget"
      ]
     },
     "metadata": {},
     "output_type": "display_data"
    },
    {
     "name": "stdout",
     "output_type": "stream",
     "text": [
      "\n"
     ]
    },
    {
     "data": {
      "application/vnd.jupyter.widget-view+json": {
       "model_id": "204cca5b88204b4cab1bbecc3e41ad69",
       "version_major": 2,
       "version_minor": 0
      },
      "text/plain": [
       "A Jupyter Widget"
      ]
     },
     "metadata": {},
     "output_type": "display_data"
    },
    {
     "name": "stdout",
     "output_type": "stream",
     "text": [
      "\n",
      "There are 4 comedy shows in train not in test and 12 comedy shows in test not in train\n",
      "There are also 139 unique comedy shows in both train and test\n"
     ]
    }
   ],
   "source": [
    "#let us also figure out jokes that are not are in train but not in test and vice versa\n",
    "\n",
    "notIntest = [jk for jk in tqdm_notebook(list(set(com_df.Joke_identifier))) if jk not in list(set(com_df_test.Joke_identifier))]\n",
    "notIntrain = [jk for jk in tqdm_notebook(list(set(com_df_test.Joke_identifier))) if jk not in list(set(com_df.Joke_identifier))]\n",
    "\n",
    "tot_jokes = len(set(list(com_df_test.Joke_identifier) + list(com_df.Joke_identifier)))\n",
    "print('There are {0} comedy shows in train not in test and {1} comedy shows in test not in train'.format(len(notIntest),\n",
    "                                                                                                         len(notIntrain)))\n",
    "print('There are also {0} unique comedy shows in both train and test'.format(tot_jokes))"
   ]
  },
  {
   "cell_type": "markdown",
   "metadata": {
    "_uuid": "023e80c15b4bdf179abe7397a8fb5b2dcb501de8"
   },
   "source": [
    "<h1  style=\"font-size: 20px\">let us create a dictionary with a unique mapping for all the users and the comedy shows<h1>"
   ]
  },
  {
   "cell_type": "code",
   "execution_count": 11,
   "metadata": {
    "_uuid": "a7b8632496c07315fdf58442af290d31339b3a40",
    "collapsed": true
   },
   "outputs": [],
   "source": [
    "users_dict = {}\n",
    "uniq_id = 0\n",
    "for uza in sorted(list(set(com_df.Viewers_ID))):\n",
    "    users_dict[uza] = uniq_id\n",
    "    uniq_id += 1\n",
    "    \n",
    "com_dict = {}\n",
    "c_id = 0\n",
    "for comd in sorted(list(set(list(com_df_test.Joke_identifier) + list(com_df.Joke_identifier)))):\n",
    "    com_dict[comd] = c_id\n",
    "    c_id += 1"
   ]
  },
  {
   "cell_type": "markdown",
   "metadata": {
    "_uuid": "ff9d13410d817a1b9698eb2b7f1d0f172e8e32c6"
   },
   "source": [
    "<h1 style=\"font-size: 20px\">First Attempt with Stochastisc Gradient Descent<h1>"
   ]
  },
  {
   "cell_type": "markdown",
   "metadata": {
    "_uuid": "4637200c5896a922e9cca2021d02136eeaba78d8"
   },
   "source": [
    "<span style=\"font-size:15px\">Let us try explicit rating using Stochastic gradient descent optimization algorithm.  According to this paper <a href=\"http://proceedings.mlr.press/v36/li14.pdf\">Link here.</a> The SGD can be implemeted by first randomly intialising the user item feature matrices and making updates to the matrices until the error between the dot product of the user-tem matrices and the Real matrix R is minimized.\n",
    "The objective function is given as follows:\n",
    " \\begin{equation*}\n",
    "  min_{P,Q} \\sum_{u,v} (r_{u,v} - p_{u}q_{v}^T)^2 + \\lambda_{P}||P_{u}||^2 + \\lambda_{Q}||q_{v}||^2\n",
    "\\end{equation*}\n",
    "    where u,v is for each user and item entry.\n",
    "    <span>\n",
    "    <span style=\"font-size:18px\">\n",
    "   The idea is to update the user-item matrices multiple times using two rules:\n",
    "    \\begin{equation*}\n",
    "  p_{u}  = p_{u} + \\gamma((r_{u,v} - p_{u}q_{v}^T)q_{v} -  \\lambda_{P}p_{u})\n",
    "  \\end{equation*}\n",
    "   \\begin{equation*}\n",
    "  q_{u}  = q_{u} + \\gamma((r_{u,v} - p_{u}q_{v}^T)p_{u} -  \\lambda_{Q}q_{u})\n",
    "\\end{equation*}\n",
    "<span>"
   ]
  },
  {
   "cell_type": "markdown",
   "metadata": {
    "_uuid": "8943a919febc476a9a4fab219daca1e3cc0fa9de"
   },
   "source": [
    "<span style=\"font-size:15px\">Let us initialise our parameters and user item feature matrices<span>"
   ]
  },
  {
   "cell_type": "code",
   "execution_count": 12,
   "metadata": {
    "_uuid": "254055cb6eb32095eee8a604ae6541fe2b876d09",
    "collapsed": true
   },
   "outputs": [],
   "source": [
    "# create two user-item matrices, one for the train dataset and the other for the test dataset\n",
    "train_mat = np.zeros((no_users_tr, tot_jokes))\n",
    "for line in com_df.itertuples():\n",
    "    train_mat[users_dict[line[1]], com_dict[line[2]]] = line[4]"
   ]
  },
  {
   "cell_type": "code",
   "execution_count": 13,
   "metadata": {
    "_uuid": "8fdd705f567e77c44f57895bf900feb013a52e7a",
    "collapsed": true
   },
   "outputs": [],
   "source": [
    "train_data, test_data = cv.train_test_split(train_mat, test_size=0.2)"
   ]
  },
  {
   "cell_type": "code",
   "execution_count": 14,
   "metadata": {
    "_uuid": "45ff3f7361e881d947bcefdbf7d3cd7d7057d36e"
   },
   "outputs": [
    {
     "data": {
      "text/plain": [
       "(32690, 139)"
      ]
     },
     "execution_count": 14,
     "metadata": {},
     "output_type": "execute_result"
    }
   ],
   "source": [
    "train_data.shape"
   ]
  },
  {
   "cell_type": "code",
   "execution_count": 15,
   "metadata": {
    "_uuid": "c85a854e58ac71082bcf03f5083867a3906ca1f7",
    "collapsed": true
   },
   "outputs": [],
   "source": [
    "lmbda = 0.4 # Regularization weight\n",
    "k = 20  # Dimensionality of the latent feature space\n",
    "m, n = train_data.shape  # Number of users and items\n",
    "iterations = 30  # Number of epochs\n",
    "gamma =0.005  # Learning rate\n",
    " \n",
    "user_feature = 3 * np.random.rand(k,m) # Latent user feature matrix\n",
    "movie_feature = 3 * np.random.rand(k,n) # Latent movie feature matrix"
   ]
  },
  {
   "cell_type": "markdown",
   "metadata": {
    "_uuid": "d263b955efb9f7283e6780962ed88ede0fbfad83"
   },
   "source": [
    "<span style=\"font-size:15px\">Only consider non-zero users and items which means items rated only by users<span>"
   ]
  },
  {
   "cell_type": "code",
   "execution_count": 16,
   "metadata": {
    "_uuid": "371d12afa6080d7239a1400c05fc1b9385eca21d"
   },
   "outputs": [
    {
     "name": "stdout",
     "output_type": "stream",
     "text": [
      "Wall time: 7min 48s\n"
     ]
    }
   ],
   "source": [
    "%%time\n",
    "users,items = train_data.nonzero()\n",
    "for iter in range(iterations):\n",
    "    for u, i in zip(users,items):\n",
    "        error = train_data[u, i] - np.dot(user_feature[:,u].T,movie_feature[:,i])  # Calculate error for gradient\n",
    "        user_feature[:,u] += gamma * (error * movie_feature[:,i] - lmbda * user_feature[:,u]) # Update latent user feature matrix\n",
    "        movie_feature[:,i] += gamma * (error * user_feature[:,u] - lmbda * movie_feature[:,i])  # Update latent movie feature matrix"
   ]
  },
  {
   "cell_type": "markdown",
   "metadata": {
    "_uuid": "7b6ed11c582fb7650e3560ed570f31b0d8b042d5"
   },
   "source": [
    "<span style=\"font-size:15px\">Let us come up with metrics to measure our performace. But before we proceed let us keep it at the back of our mind that this algorithm might not be the best choice for production because it takes about 5mins to train.<span>"
   ]
  },
  {
   "cell_type": "markdown",
   "metadata": {
    "_uuid": "34860cfbf3520b18a72646673ff99f35da82869c"
   },
   "source": [
    "<h2 style=\"font-size:18px\">RMSE metric definition<h2>"
   ]
  },
  {
   "cell_type": "code",
   "execution_count": 17,
   "metadata": {
    "_uuid": "61f7bc6e69926cb963b941c560c82b10de7c5f9c",
    "collapsed": true
   },
   "outputs": [],
   "source": [
    "from sklearn.metrics import mean_squared_error\n",
    "def rt_mean_sqrd(y_true, y_pred):\n",
    "    \n",
    "    return np.sqrt(mean_squared_error(y_true[y_true.nonzero()].flatten(), y_pred[y_true.nonzero()].flatten()))"
   ]
  },
  {
   "cell_type": "code",
   "execution_count": 18,
   "metadata": {
    "_uuid": "d33b9bffd8bf3fd69a9a7531afa1a036c1fafc4b",
    "collapsed": true
   },
   "outputs": [],
   "source": [
    "prediction_SGD = np.dot(user_feature.T, movie_feature)"
   ]
  },
  {
   "cell_type": "code",
   "execution_count": 19,
   "metadata": {
    "_uuid": "93a4ea0388ec9eed94878c17b4b2637d06dcdee2"
   },
   "outputs": [
    {
     "name": "stdout",
     "output_type": "stream",
     "text": [
      "Train RMSE for SGD is 2.244429697091997\n"
     ]
    }
   ],
   "source": [
    "print('Train RMSE for SGD is {0}'.format(rt_mean_sqrd(train_data, prediction_SGD)))"
   ]
  },
  {
   "cell_type": "code",
   "execution_count": 20,
   "metadata": {
    "_uuid": "44a9dfa00ba95cdeb5eaa39ecb5d9b15a3cdbc82"
   },
   "outputs": [
    {
     "name": "stdout",
     "output_type": "stream",
     "text": [
      "Test RMSE for SGD is 2.7420247588288404\n"
     ]
    }
   ],
   "source": [
    "print('Test RMSE for SGD is {0}'.format(rt_mean_sqrd(test_data, prediction_SGD)))"
   ]
  },
  {
   "cell_type": "markdown",
   "metadata": {
    "_uuid": "5e8adee81b6c0377ff2fe2062b60adcea96586fc"
   },
   "source": [
    "<span style=\"font-size:15px\">Let us increase the number of iterations. This will obviously take more time but let us see if this will improve the model performance.<span>"
   ]
  },
  {
   "cell_type": "code",
   "execution_count": 21,
   "metadata": {
    "_uuid": "9281439d01f8442fff7b71be02aec0a2ccacebb2"
   },
   "outputs": [
    {
     "name": "stdout",
     "output_type": "stream",
     "text": [
      "Train RMSE for SGD is 2.0421897823876765\n",
      "Test RMSE for SGD is 2.7707397776013125\n",
      "Wall time: 26min 8s\n"
     ]
    }
   ],
   "source": [
    "%%time\n",
    "lmbda = 0.4 # Regularization weight\n",
    "k = 20  # Dimensionality of the latent feature space\n",
    "m, n = train_data.shape  # Number of users and items\n",
    "iterations = 100  # Number of epochs\n",
    "gamma =0.005  # Learning rate\n",
    " \n",
    "user_feature = 3 * np.random.rand(k,m) # Latent user feature matrix\n",
    "movie_feature = 3 * np.random.rand(k,n) # Latent movie feature matrix\n",
    "\n",
    "\n",
    "\n",
    "users,items = train_data.nonzero()\n",
    "for iter in range(iterations):\n",
    "    for u, i in zip(users,items):\n",
    "        error = train_data[u, i] - np.dot(user_feature[:,u].T,movie_feature[:,i])  # Calculate error for gradient\n",
    "        user_feature[:,u] += gamma * (error * movie_feature[:,i] - lmbda * user_feature[:,u]) # Update latent user feature matrix\n",
    "        movie_feature[:,i] += gamma * (error * user_feature[:,u] - lmbda * movie_feature[:,i])  # Update latent movie feature matrix\n",
    "\n",
    "\n",
    "prediction_SGD = np.dot(user_feature.T, movie_feature)\n",
    "print('Train RMSE for SGD is {0}'.format(rt_mean_sqrd(train_data, prediction_SGD)))\n",
    "print('Test RMSE for SGD is {0}'.format(rt_mean_sqrd(test_data, prediction_SGD)))"
   ]
  },
  {
   "cell_type": "markdown",
   "metadata": {
    "_uuid": "35bf703589894c7dda6eafec26cd44f9f416a9bc"
   },
   "source": [
    "<span style=\"font-size:15px\">At this point we can say that SGD algorithm over-fits. However, we could play with other paramters such as the regularization parameter and learning rate to improve model performance.<span>"
   ]
  },
  {
   "cell_type": "markdown",
   "metadata": {
    "_uuid": "e0a7ce5d033e0f4c15405c3720bc6d18038b8152"
   },
   "source": [
    "<h3> Using Singular Value Decomposition(SVD)<h3>"
   ]
  },
  {
   "cell_type": "markdown",
   "metadata": {
    "_uuid": "7cee59a47d3abdc681a27e8acc991414f0f4fc29"
   },
   "source": [
    "<span style=\"font-size:15px\">SVD is a form of Matrix Decomposition into new matrices that can help us understand our original matrix better. \n",
    "It contains information that are not obvious in the original matrix format. It is a form of matrix factorization that factorizes the original matrix into 3 matrices. One major advantage of SVD over other decomposition algorithms like eigen decomposiiton is that all matrices can be decomposed into singular values and singular vectors.<span>"
   ]
  },
  {
   "cell_type": "markdown",
   "metadata": {
    "_uuid": "2fe55c5d0a5dbde230afa65ef7a27748118dd780"
   },
   "source": [
    "<img src=\"http://mblogthumb3.phinf.naver.net/MjAxODAxMDJfMjQ3/MDAxNTE0ODQ4MjI3MDMy.Mcpq16rhbeEVUaDpJ_IhOVtFTSvEtErSadPbwtj1E5Eg.DKSqS63UupNG5-GkYuiKfLCist1-byhv_eMyluSRaCIg.PNG.car9380/image.png?type=w800\">"
   ]
  },
  {
   "cell_type": "markdown",
   "metadata": {
    "_uuid": "282cf476b603a979913077daaa3fd82f26739018"
   },
   "source": [
    "<span style=\"font-size:15px\">For a user-item matrix, the matrix can be decomposed into left singular-vectors that carry information about the users called latent factors while the right-singular vector matrix contains information about the items. The diagonal matrix in the middle records the information of the decomposition. They are eigen values. Eigen values are just scalars.<span>"
   ]
  },
  {
   "cell_type": "markdown",
   "metadata": {
    "_uuid": "9a474ea9238f7f8ca7977ab3a6df09a965acd772"
   },
   "source": [
    "<h3>Let us implement SVD using well known Surpise Library in Python<h3>"
   ]
  },
  {
   "cell_type": "code",
   "execution_count": 23,
   "metadata": {
    "_uuid": "eb030db35332a07dab25ea8db6abc56b5e16d987"
   },
   "outputs": [],
   "source": [
    "from surprise import SVD\n",
    "from surprise import Dataset"
   ]
  },
  {
   "cell_type": "markdown",
   "metadata": {
    "_uuid": "5e6ac9fe217f3caba786348acd103abb4fe9c98d"
   },
   "source": [
    "<span style=\"font-size:15px\">Replace the user ids and joke ids with the unique ids generated previously<span>"
   ]
  },
  {
   "cell_type": "code",
   "execution_count": 24,
   "metadata": {
    "_uuid": "613eff24f082931a64018cc775bb41a848a79ce9",
    "collapsed": true
   },
   "outputs": [],
   "source": [
    "new_df = pd.DataFrame()\n",
    "new_df['user_id'] = [users_dict[v_id] for v_id in com_df.Viewers_ID]\n",
    "new_df['item_id'] = [com_dict[j_id] for j_id in com_df.Joke_identifier]\n",
    "new_df['rating'] = com_df.Rating"
   ]
  },
  {
   "cell_type": "code",
   "execution_count": 25,
   "metadata": {
    "_uuid": "40ecfdd1dc6250130b356cb1a0fdd54e20047b68"
   },
   "outputs": [
    {
     "data": {
      "text/html": [
       "<div>\n",
       "<style>\n",
       "    .dataframe thead tr:only-child th {\n",
       "        text-align: right;\n",
       "    }\n",
       "\n",
       "    .dataframe thead th {\n",
       "        text-align: left;\n",
       "    }\n",
       "\n",
       "    .dataframe tbody tr th {\n",
       "        vertical-align: top;\n",
       "    }\n",
       "</style>\n",
       "<table border=\"1\" class=\"dataframe\">\n",
       "  <thead>\n",
       "    <tr style=\"text-align: right;\">\n",
       "      <th></th>\n",
       "      <th>user_id</th>\n",
       "      <th>item_id</th>\n",
       "      <th>rating</th>\n",
       "    </tr>\n",
       "  </thead>\n",
       "  <tbody>\n",
       "    <tr>\n",
       "      <th>0</th>\n",
       "      <td>0</td>\n",
       "      <td>96</td>\n",
       "      <td>0.11</td>\n",
       "    </tr>\n",
       "    <tr>\n",
       "      <th>1</th>\n",
       "      <td>0</td>\n",
       "      <td>97</td>\n",
       "      <td>-4.64</td>\n",
       "    </tr>\n",
       "    <tr>\n",
       "      <th>2</th>\n",
       "      <td>0</td>\n",
       "      <td>102</td>\n",
       "      <td>-3.39</td>\n",
       "    </tr>\n",
       "    <tr>\n",
       "      <th>3</th>\n",
       "      <td>0</td>\n",
       "      <td>103</td>\n",
       "      <td>0.44</td>\n",
       "    </tr>\n",
       "    <tr>\n",
       "      <th>4</th>\n",
       "      <td>0</td>\n",
       "      <td>99</td>\n",
       "      <td>-4.83</td>\n",
       "    </tr>\n",
       "    <tr>\n",
       "      <th>5</th>\n",
       "      <td>0</td>\n",
       "      <td>100</td>\n",
       "      <td>-4.52</td>\n",
       "    </tr>\n",
       "  </tbody>\n",
       "</table>\n",
       "</div>"
      ],
      "text/plain": [
       "   user_id  item_id  rating\n",
       "0        0       96    0.11\n",
       "1        0       97   -4.64\n",
       "2        0      102   -3.39\n",
       "3        0      103    0.44\n",
       "4        0       99   -4.83\n",
       "5        0      100   -4.52"
      ]
     },
     "execution_count": 25,
     "metadata": {},
     "output_type": "execute_result"
    }
   ],
   "source": [
    "new_df.head(6)"
   ]
  },
  {
   "cell_type": "code",
   "execution_count": 26,
   "metadata": {
    "_uuid": "cbae7f085bdb8cf40bdbd7257bbfb35b92b770d1",
    "collapsed": true
   },
   "outputs": [],
   "source": [
    "from surprise import Reader\n",
    "reader = Reader(rating_scale=(-5, 5)) #specifies the scale of the ratings\n",
    "\n",
    "data = Dataset.load_from_df(new_df[['user_id', 'item_id', 'rating']], reader)\n",
    "trainset = data.build_full_trainset()"
   ]
  },
  {
   "cell_type": "markdown",
   "metadata": {
    "_uuid": "b59383823ec4aa4c414b9b7b2a68e50c14590b84"
   },
   "source": [
    "<span style=\"font-size: 15px\">let us run a small grid search to select best hyperparameters while we are implementing the SVD algorithm<span>"
   ]
  },
  {
   "cell_type": "code",
   "execution_count": 27,
   "metadata": {
    "_uuid": "d4f739f636213c916a5d57eb604515e637634e19",
    "scrolled": true
   },
   "outputs": [
    {
     "name": "stderr",
     "output_type": "stream",
     "text": [
      "[Parallel(n_jobs=-1)]: Using backend LokyBackend with 4 concurrent workers.\n",
      "[Parallel(n_jobs=-1)]: Done  12 out of  12 | elapsed:  7.6min finished\n"
     ]
    },
    {
     "name": "stdout",
     "output_type": "stream",
     "text": [
      "2.146800573950489\n",
      "{'n_epochs': 50, 'lr_all': 0.005, 'reg_all': 0.2}\n",
      "Wall time: 7min 37s\n"
     ]
    }
   ],
   "source": [
    "%%time\n",
    "from surprise.model_selection import GridSearchCV\n",
    "\n",
    "param_grid = {'n_epochs': [50], 'lr_all':[0.005,0.007],\n",
    "              'reg_all': [0.2,0.4]}\n",
    "gs = GridSearchCV(SVD, param_grid, measures=['rmse', 'mae'], cv=3, n_jobs=-1, joblib_verbose=1)\n",
    "\n",
    "gs.fit(data)\n",
    "\n",
    "# best RMSE score\n",
    "print(gs.best_score['rmse'])\n",
    "\n",
    "# combination of parameters that gave the best RMSE score\n",
    "print(gs.best_params['rmse'])"
   ]
  },
  {
   "cell_type": "markdown",
   "metadata": {},
   "source": [
    "<span style=\"font-size:15px\">This is a much better performance from SVD from the surprise package. It appears not to overfitt and a grid search of 5 parameters space with 50 epochs ran much faster than SGD based algorithm.<span>"
   ]
  },
  {
   "cell_type": "markdown",
   "metadata": {},
   "source": [
    "<span style=\"font-size:15px\">Recently Deep learning algorithms have been besting machine learning algorithms at so many tasks. Most notably image recognition, text classification and so on. It will only suffice for us to implement a deep learning model using keras to attempt to improve model performance.<span>"
   ]
  },
  {
   "cell_type": "markdown",
   "metadata": {},
   "source": [
    "<h3>Deep Learning Model Implementation Using Keras<h3>"
   ]
  },
  {
   "cell_type": "markdown",
   "metadata": {},
   "source": [
    "<span style=\"font-size:15px\">let us split the train data now into train and test splits so when training we can use a \n",
    "portion of the train data for validation<span>"
   ]
  },
  {
   "cell_type": "code",
   "execution_count": 43,
   "metadata": {
    "_uuid": "c2f1c318a082722a031a3f9beb1f8a6b5aec3de1",
    "collapsed": true
   },
   "outputs": [],
   "source": [
    "from sklearn.model_selection import train_test_split\n",
    "train_nw, test_nw = train_test_split(new_df, test_size=0.2)"
   ]
  },
  {
   "cell_type": "code",
   "execution_count": 44,
   "metadata": {},
   "outputs": [
    {
     "data": {
      "text/html": [
       "<div>\n",
       "<style>\n",
       "    .dataframe thead tr:only-child th {\n",
       "        text-align: right;\n",
       "    }\n",
       "\n",
       "    .dataframe thead th {\n",
       "        text-align: left;\n",
       "    }\n",
       "\n",
       "    .dataframe tbody tr th {\n",
       "        vertical-align: top;\n",
       "    }\n",
       "</style>\n",
       "<table border=\"1\" class=\"dataframe\">\n",
       "  <thead>\n",
       "    <tr style=\"text-align: right;\">\n",
       "      <th></th>\n",
       "      <th>user_id</th>\n",
       "      <th>item_id</th>\n",
       "      <th>rating</th>\n",
       "    </tr>\n",
       "  </thead>\n",
       "  <tbody>\n",
       "    <tr>\n",
       "      <th>15007</th>\n",
       "      <td>1048</td>\n",
       "      <td>0</td>\n",
       "      <td>2.64</td>\n",
       "    </tr>\n",
       "    <tr>\n",
       "      <th>316408</th>\n",
       "      <td>20976</td>\n",
       "      <td>40</td>\n",
       "      <td>0.69</td>\n",
       "    </tr>\n",
       "    <tr>\n",
       "      <th>231850</th>\n",
       "      <td>15569</td>\n",
       "      <td>98</td>\n",
       "      <td>0.55</td>\n",
       "    </tr>\n",
       "    <tr>\n",
       "      <th>412757</th>\n",
       "      <td>26969</td>\n",
       "      <td>97</td>\n",
       "      <td>-1.42</td>\n",
       "    </tr>\n",
       "    <tr>\n",
       "      <th>466574</th>\n",
       "      <td>30594</td>\n",
       "      <td>99</td>\n",
       "      <td>-2.98</td>\n",
       "    </tr>\n",
       "  </tbody>\n",
       "</table>\n",
       "</div>"
      ],
      "text/plain": [
       "        user_id  item_id  rating\n",
       "15007      1048        0    2.64\n",
       "316408    20976       40    0.69\n",
       "231850    15569       98    0.55\n",
       "412757    26969       97   -1.42\n",
       "466574    30594       99   -2.98"
      ]
     },
     "execution_count": 44,
     "metadata": {},
     "output_type": "execute_result"
    }
   ],
   "source": [
    "train_nw.head()"
   ]
  },
  {
   "cell_type": "markdown",
   "metadata": {},
   "source": [
    "<span style=\"font-size:15px\">We can employ an encoder-decoder architecture. The encoder is a form of matrix decomposition that compresses the matrix into low-dimensional space with new learnt features. The decoder step decodes the matrix into the original matrix R. The closer the learnt matrix to its original matrix the better<span>"
   ]
  },
  {
   "cell_type": "code",
   "execution_count": 35,
   "metadata": {
    "_uuid": "672830a8c160df876897e41c233e23b35aef8506"
   },
   "outputs": [],
   "source": [
    "import tensorflow as tf\n",
    "import keras\n",
    "from IPython.display import SVG\n",
    "from keras.optimizers import Adam\n",
    "from keras.utils.vis_utils import model_to_dot\n",
    "n_users, n_jokes = no_users_tr, tot_jokes\n",
    "n_latent_factors = 20 "
   ]
  },
  {
   "cell_type": "code",
   "execution_count": 33,
   "metadata": {
    "_uuid": "0fa6332a5a7cbf50283fa75ed4ff0ff85b8d1b4d",
    "collapsed": true
   },
   "outputs": [],
   "source": [
    "from keras.layers import Input,Embedding,Dense,Reshape, Dropout\n",
    "from keras import Model"
   ]
  },
  {
   "cell_type": "code",
   "execution_count": 59,
   "metadata": {
    "_uuid": "562ded2402145755fb0dde4b0602c0e0342d5330"
   },
   "outputs": [],
   "source": [
    "user_id_input = Input(shape=[1], name='user')\n",
    "item_id_input = Input(shape=[1], name='item')\n",
    "\n",
    "embedding_size = 8\n",
    "user_embedding = Embedding(output_dim=embedding_size, input_dim=n_users,\n",
    "                           input_length=1, name='user_embedding')(user_id_input)\n",
    "item_embedding = Embedding(output_dim=embedding_size, input_dim=n_jokes,\n",
    "                           input_length=1, name='item_embedding')(item_id_input)\n",
    "\n",
    "user_vecs = Reshape([embedding_size])(user_embedding)\n",
    "item_vecs = Reshape([embedding_size])(item_embedding)\n",
    "\n",
    "input_vecs = keras.layers.Concatenate()([user_vecs, item_vecs])\n",
    "input_vecs = Dropout(0.25)(input_vecs)\n",
    "\n",
    "enc_x1 = Dense(128, activation='relu')(input_vecs)\n",
    "enc_x2= Dense(64, activation='relu')(enc_x1)\n",
    "enc_x3 = Dense(32, activation='relu')(enc_x2)\n",
    "enc_x4 = Dense(16, activation='relu')(enc_x3)\n",
    "\n",
    "latent = Dense(8, activation='relu')(enc_x3)\n",
    "\n",
    "dec_layer1 = Dense(16, activation='relu')(latent)\n",
    "dec_layer2 = Dense(32, activation='relu')(dec_layer1)\n",
    "dec_layer3 = Dense(64, activation='relu')(dec_layer2)\n",
    "dec_layer4 = Dense(128, activation='relu')(dec_layer3)\n",
    "\n",
    "x = Dropout(0.25)(dec_layer4)\n",
    "# x = Dense(128, activation='relu')(x)\n",
    "y = Dense(1)(x)\n",
    "\n",
    "model = Model(inputs=[user_id_input, item_id_input], outputs=y)\n",
    "from keras import optimizers\n",
    "c = optimizers.adam(lr = 0.0005, decay=1e-6)\n",
    "model.compile(optimizer=c, loss='mse')  "
   ]
  },
  {
   "cell_type": "code",
   "execution_count": 60,
   "metadata": {
    "_uuid": "369fad6e46bc3e5a830a4ed27374f5537c50f1f9",
    "scrolled": true
   },
   "outputs": [
    {
     "name": "stdout",
     "output_type": "stream",
     "text": [
      "__________________________________________________________________________________________________\n",
      "Layer (type)                    Output Shape         Param #     Connected to                     \n",
      "==================================================================================================\n",
      "user (InputLayer)               (None, 1)            0                                            \n",
      "__________________________________________________________________________________________________\n",
      "item (InputLayer)               (None, 1)            0                                            \n",
      "__________________________________________________________________________________________________\n",
      "user_embedding (Embedding)      (None, 1, 8)         326904      user[0][0]                       \n",
      "__________________________________________________________________________________________________\n",
      "item_embedding (Embedding)      (None, 1, 8)         1112        item[0][0]                       \n",
      "__________________________________________________________________________________________________\n",
      "reshape_9 (Reshape)             (None, 8)            0           user_embedding[0][0]             \n",
      "__________________________________________________________________________________________________\n",
      "reshape_10 (Reshape)            (None, 8)            0           item_embedding[0][0]             \n",
      "__________________________________________________________________________________________________\n",
      "concatenate_5 (Concatenate)     (None, 16)           0           reshape_9[0][0]                  \n",
      "                                                                 reshape_10[0][0]                 \n",
      "__________________________________________________________________________________________________\n",
      "dropout_9 (Dropout)             (None, 16)           0           concatenate_5[0][0]              \n",
      "__________________________________________________________________________________________________\n",
      "dense_41 (Dense)                (None, 128)          2176        dropout_9[0][0]                  \n",
      "__________________________________________________________________________________________________\n",
      "dense_42 (Dense)                (None, 64)           8256        dense_41[0][0]                   \n",
      "__________________________________________________________________________________________________\n",
      "dense_43 (Dense)                (None, 32)           2080        dense_42[0][0]                   \n",
      "__________________________________________________________________________________________________\n",
      "dense_45 (Dense)                (None, 8)            264         dense_43[0][0]                   \n",
      "__________________________________________________________________________________________________\n",
      "dense_46 (Dense)                (None, 16)           144         dense_45[0][0]                   \n",
      "__________________________________________________________________________________________________\n",
      "dense_47 (Dense)                (None, 32)           544         dense_46[0][0]                   \n",
      "__________________________________________________________________________________________________\n",
      "dense_48 (Dense)                (None, 64)           2112        dense_47[0][0]                   \n",
      "__________________________________________________________________________________________________\n",
      "dense_49 (Dense)                (None, 128)          8320        dense_48[0][0]                   \n",
      "__________________________________________________________________________________________________\n",
      "dropout_10 (Dropout)            (None, 128)          0           dense_49[0][0]                   \n",
      "__________________________________________________________________________________________________\n",
      "dense_50 (Dense)                (None, 1)            129         dropout_10[0][0]                 \n",
      "==================================================================================================\n",
      "Total params: 352,041\n",
      "Trainable params: 352,041\n",
      "Non-trainable params: 0\n",
      "__________________________________________________________________________________________________\n"
     ]
    }
   ],
   "source": [
    "model.summary()"
   ]
  },
  {
   "cell_type": "code",
   "execution_count": 39,
   "metadata": {
    "_uuid": "cb6652dd3b69d15db2e82206e12c659cd9aa332d",
    "collapsed": true
   },
   "outputs": [],
   "source": [
    "from keras.callbacks import EarlyStopping, ModelCheckpoint, ReduceLROnPlateau"
   ]
  },
  {
   "cell_type": "code",
   "execution_count": 61,
   "metadata": {
    "_uuid": "c9859893899fcb448bcb328b7b23eaef0a2c1556",
    "collapsed": true
   },
   "outputs": [],
   "source": [
    "earlystopper = EarlyStopping(patience=3, verbose=1)\n",
    "checkpointer = ModelCheckpoint('C:/Users/Training/Desktop/comedy data/model/Recommend_DL.h5', verbose=1, save_best_only=True)\n",
    "reduce_lr = ReduceLROnPlateau(factor=0.5, patience=5, min_lr=0.00001, verbose=1)"
   ]
  },
  {
   "cell_type": "code",
   "execution_count": 62,
   "metadata": {
    "_uuid": "668deda37cc9a6ec9da84163ddab494317073452",
    "scrolled": false
   },
   "outputs": [
    {
     "name": "stdout",
     "output_type": "stream",
     "text": [
      "Train on 441144 samples, validate on 49017 samples\n",
      "Epoch 1/7\n",
      "Epoch 00001: val_loss improved from inf to 4.95768, saving model to C:/Users/Training/Desktop/comedy data/model/Recommend_DL.h5\n",
      " - 29s - loss: 5.6240 - val_loss: 4.9577\n",
      "Epoch 2/7\n",
      "Epoch 00002: val_loss improved from 4.95768 to 4.79236, saving model to C:/Users/Training/Desktop/comedy data/model/Recommend_DL.h5\n",
      " - 31s - loss: 4.7483 - val_loss: 4.7924\n",
      "Epoch 3/7\n",
      "Epoch 00003: val_loss improved from 4.79236 to 4.73372, saving model to C:/Users/Training/Desktop/comedy data/model/Recommend_DL.h5\n",
      " - 28s - loss: 4.4872 - val_loss: 4.7337\n",
      "Epoch 4/7\n",
      "Epoch 00004: val_loss improved from 4.73372 to 4.71088, saving model to C:/Users/Training/Desktop/comedy data/model/Recommend_DL.h5\n",
      " - 27s - loss: 4.2851 - val_loss: 4.7109\n",
      "Epoch 5/7\n",
      "Epoch 00005: val_loss did not improve\n",
      " - 27s - loss: 4.1339 - val_loss: 4.7130\n",
      "Epoch 6/7\n",
      "Epoch 00006: val_loss improved from 4.71088 to 4.71013, saving model to C:/Users/Training/Desktop/comedy data/model/Recommend_DL.h5\n",
      " - 27s - loss: 4.0265 - val_loss: 4.7101\n",
      "Epoch 7/7\n",
      "Epoch 00007: val_loss did not improve\n",
      " - 29s - loss: 3.9309 - val_loss: 4.7217\n"
     ]
    }
   ],
   "source": [
    "history = model.fit([train_nw.user_id, train_nw.item_id], train_nw.rating, callbacks=[earlystopper, checkpointer,reduce_lr],\n",
    "          validation_split=0.1, batch_size = 128, epochs=7, verbose=2) "
   ]
  },
  {
   "cell_type": "code",
   "execution_count": 63,
   "metadata": {
    "_uuid": "44dfd18cf679373d8d94cf55a0f83d49e3d84dd8",
    "collapsed": true
   },
   "outputs": [],
   "source": [
    "%matplotlib inline\n",
    "import math\n",
    "import matplotlib.pyplot as plt"
   ]
  },
  {
   "cell_type": "code",
   "execution_count": 75,
   "metadata": {
    "_uuid": "4f57d2ff3d9db9d52df2f1c1a1ad857a4857f0c6"
   },
   "outputs": [
    {
     "data": {
      "text/plain": [
       "(1.8, 2.5)"
      ]
     },
     "execution_count": 75,
     "metadata": {},
     "output_type": "execute_result"
    },
    {
     "data": {
      "image/png": "[encoded data removed]",
      "text/plain": [
       "<matplotlib.figure.Figure at 0x1a3d01819b0>"
      ]
     },
     "metadata": {
      "image/png": {
       "height": 429,
       "width": 777
      }
     },
     "output_type": "display_data"
    }
   ],
   "source": [
    "loss = pd.DataFrame({'epoch': [ i + 1 for i in history.epoch ],\n",
    "                     'training': [ math.sqrt(loss) for loss in history.history['loss'] ],\n",
    "                     'validation': [ math.sqrt(loss) for loss in history.history['val_loss'] ]})\n",
    "ax = loss.iloc[:,:].plot(x='epoch', figsize=(13,7), grid=True)\n",
    "ax.set_ylabel(\"root mean squared error\")\n",
    "ax.set_ylim([1.8,2.5])"
   ]
  },
  {
   "cell_type": "code",
   "execution_count": 65,
   "metadata": {
    "_uuid": "c28f549d0a20ab098cc02d4c0eaefad0d57ac345",
    "collapsed": true
   },
   "outputs": [],
   "source": [
    "from keras.models import Model, load_model"
   ]
  },
  {
   "cell_type": "code",
   "execution_count": 66,
   "metadata": {
    "_uuid": "c1f0195dd4fef6812db4d6222c03ea2d01436cd6",
    "collapsed": true
   },
   "outputs": [],
   "source": [
    "learnt = load_model('C:/Users/Training/Desktop/comedy data/model/Recommend_DL.h5')"
   ]
  },
  {
   "cell_type": "code",
   "execution_count": 69,
   "metadata": {
    "_uuid": "441d1850616afdadea83c7ff6e0bad4c91298337"
   },
   "outputs": [],
   "source": [
    "y_hat = learnt.predict([test_nw.user_id, test_nw.item_id])\n",
    "y_true = test_nw.rating"
   ]
  },
  {
   "cell_type": "code",
   "execution_count": 76,
   "metadata": {
    "_uuid": "2f0d52ea24f317e25f9e0770c544a075f47b4123"
   },
   "outputs": [
    {
     "name": "stdout",
     "output_type": "stream",
     "text": [
      "Train RMSE for Encoder-Decoder is 2.1706804147555623\n"
     ]
    }
   ],
   "source": [
    "from sklearn.metrics import mean_squared_error\n",
    "print('Train RMSE for Encoder-Decoder is {0}'.format(np.sqrt(mean_squared_error(y_true, y_hat))))"
   ]
  },
  {
   "cell_type": "markdown",
   "metadata": {},
   "source": [
    "## In Conclusion"
   ]
  },
  {
   "cell_type": "markdown",
   "metadata": {
    "_uuid": "0c2cdfc2d252120a7397ed67b71242cb3b255f13",
    "collapsed": true
   },
   "source": [
    "One can see that SVD from surprise outperforms SGD-based predictor and Deep learning model. Further exploration to improve the model performance can begin by first looking at the dataset. Some comedy shows in the test data are not represented well in the train data hence the models built so far did not come across such items during training. A balance of the dataset can be done to reflect all items in both train and test set. \n",
    "Other algorithms like KNNBaseline, NMF or SVD++ in the surprise package can be experimented with to improve model performance. <a href = \"http://surpriselib.com/\">Link here</a>\n",
    "The deep learning approach can be experimented with the most. One can choose a different architecture from the encoder-decoder architecture used.The best algorithm would have to be robust, an algorithm that does not overfit."
   ]
  }
 ],
 "metadata": {
  "kernelspec": {
   "display_name": "Python 3",
   "language": "python",
   "name": "python3"
  },
  "language_info": {
   "codemirror_mode": {
    "name": "ipython",
    "version": 3
   },
   "file_extension": ".py",
   "mimetype": "text/x-python",
   "name": "python",
   "nbconvert_exporter": "python",
   "pygments_lexer": "ipython3",
   "version": "3.6.3"
  }
 },
 "nbformat": 4,
 "nbformat_minor": 1
}
